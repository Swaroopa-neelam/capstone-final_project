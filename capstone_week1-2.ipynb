{
 "cells": [
  {
   "cell_type": "markdown",
   "metadata": {},
   "source": [
    "<h3><b> CAPSTONE FINAL PROJECT<b><h3>\n",
    "    <h4>DATA SECTION<h4>\n",
    "<p>2.A description of the data and how it will be used to solve the problem. (15 marks)<p>\n",
    "  Data description:\n",
    "  To help Robert's in his search we will need to access following data:<br>\n",
    "     \n",
    "->Import the Localities of Bogotá, Colombia from Wikipedia:https://es.wikipedia.org/wiki/Anexo:Localidades_de_Bogot%C3%A1<br>\n",
    "->Import the coordinates (latitude, longitude) ot these Localities of Bogotá from Open Street Map APIs<br>\n",
    "->From Foursquare we will need following venues data:<br>\n",
    "  - the BBQjoint venues of the Localities\n",
    "  - the offices venues of the Localities\n",
    "  - the universities venues of the Localities\n",
    "    \n",
    "->We will then leverage the data in order to determine which locality is the most appropriate in order to locate the BBQ joint. \n",
    "    \n"
   ]
  },
  {
   "cell_type": "code",
   "execution_count": null,
   "metadata": {},
   "outputs": [],
   "source": []
  }
 ],
 "metadata": {
  "kernelspec": {
   "display_name": "Python 3",
   "language": "python",
   "name": "python3"
  },
  "language_info": {
   "codemirror_mode": {
    "name": "ipython",
    "version": 3
   },
   "file_extension": ".py",
   "mimetype": "text/x-python",
   "name": "python",
   "nbconvert_exporter": "python",
   "pygments_lexer": "ipython3",
   "version": "3.6.7"
  }
 },
 "nbformat": 4,
 "nbformat_minor": 4
}
