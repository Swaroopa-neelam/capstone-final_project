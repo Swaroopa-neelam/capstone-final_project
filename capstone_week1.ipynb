{
 "cells": [
  {
   "cell_type": "markdown",
   "metadata": {},
   "source": [
    "<h3><b> CAPSTONE FINAL PROJECT<b><h3>\n",
    "<h4>Introduction/Business Problem <h4>\n",
    "<p> 1. A description of the problem and a discussion of the background. (15 marks)<p>\n",
    " Problem description:\n",
    "    The person robert wants to open BBQ joint in some locality (district) bogota, colombia.He is confused where to open BBQjoint in colombia and he is asking our help in finding the best Locality.<br><br>\n",
    "    In order to open Robert's BBQ joint, we will have the need to use some information about the Localities in Bogota.\n",
    "We must be sure that the place where the BBQ joint is opened will have enough customers and also that there aren't a large ammount of BBQ joints in the place.\n"
   ]
  },
  {
   "cell_type": "markdown",
   "metadata": {},
   "source": []
  },
  {
   "cell_type": "code",
   "execution_count": null,
   "metadata": {},
   "outputs": [],
   "source": []
  }
 ],
 "metadata": {
  "kernelspec": {
   "display_name": "Python 3",
   "language": "python",
   "name": "python3"
  },
  "language_info": {
   "codemirror_mode": {
    "name": "ipython",
    "version": 3
   },
   "file_extension": ".py",
   "mimetype": "text/x-python",
   "name": "python",
   "nbconvert_exporter": "python",
   "pygments_lexer": "ipython3",
   "version": "3.6.7"
  }
 },
 "nbformat": 4,
 "nbformat_minor": 4
}
